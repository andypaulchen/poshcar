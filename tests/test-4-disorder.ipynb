{
 "cells": [
  {
   "cell_type": "markdown",
   "id": "2adea71f",
   "metadata": {},
   "source": [
    "# POSHCAR DEMO No. 4: Site-disordered cells and related tools\n",
    "\n",
    "## disorder.py: Site-disordered crystal structures (under development)\n",
    "Package to treat site-disordered crystal structures.<br>\n",
    "**Imports:** poshcar.supercell, poshcar.atomsub, Distance.py, ase.io.cif (as asecif), ase.io.vasp (as asevasp), get_duplicate_atoms (from ase.geometry), random, os<br>\n",
    "\n",
    "### Functions\n",
    "**`cif2vasp_occ(ciffile)`**: (*void*) Reads in a .cif file, output .vasp file with fractional occupancy information which mimics a Selective Dynamics file. Note: an example \"abcde.cif\" will be read in to produce \"abcde.vasp\"<br>\n",
    "> `ciffile`: (*float*) path to the .cif file<br>\n",
    "\n",
    "**`composition(data)`**: (*[float]*) Returns a vector containing fractional composition of each element<br>"
   ]
  },
  {
   "cell_type": "code",
   "execution_count": 5,
   "id": "14d72916",
   "metadata": {},
   "outputs": [
    {
     "name": "stdout",
     "output_type": "stream",
     "text": [
      "Reading from file: _demo/I-42m(121)_135.vasp\n",
      "Writing to file: _demo/I-42m(121)_135.vasp\n",
      "Reading from file: _demo/I-42m(121)_135.vasp\n",
      ">>>>>>>>>>>> START VASPFILE >>>>>>>>>>>>\n",
      "\n",
      "Cu Te In\n",
      " 1.0000000000000000\n",
      "       6.194400       0.000000       0.000000\n",
      "       0.000000       6.194400       0.000000\n",
      "       0.000000       0.000000      12.415700\n",
      "    Cu    Te    In\n",
      "    1    1    2\n",
      "Site-Disordered Structure\n",
      "Cartesian\n",
      "       0.000000       0.000000       0.000000    Cu0    0.8\n",
      "       1.548600       4.645800       1.551962    Te1    1.0\n",
      "       3.097200       3.097200       0.000000    In2    0.4\n",
      "       0.000000       3.097200       3.103925    In3    1.0\n",
      "\n",
      ">>>>>>>>>>>>> END VASPFILE >>>>>>>>>>>>>\n",
      "\n",
      "Selective Dynamics: True\n",
      "Site-disordered structure detected!\n"
     ]
    },
    {
     "data": {
      "text/html": [
       "<div>\n",
       "<style scoped>\n",
       "    .dataframe tbody tr th:only-of-type {\n",
       "        vertical-align: middle;\n",
       "    }\n",
       "\n",
       "    .dataframe tbody tr th {\n",
       "        vertical-align: top;\n",
       "    }\n",
       "\n",
       "    .dataframe thead th {\n",
       "        text-align: right;\n",
       "    }\n",
       "</style>\n",
       "<table border=\"1\" class=\"dataframe\">\n",
       "  <thead>\n",
       "    <tr style=\"text-align: right;\">\n",
       "      <th></th>\n",
       "      <th>Species</th>\n",
       "      <th>Wyckoff Site</th>\n",
       "      <th>POSCAR Site</th>\n",
       "      <th>Occupancy</th>\n",
       "    </tr>\n",
       "  </thead>\n",
       "  <tbody>\n",
       "    <tr>\n",
       "      <th>0</th>\n",
       "      <td>Cu</td>\n",
       "      <td>Cu0</td>\n",
       "      <td>Cu0-1</td>\n",
       "      <td>0.8</td>\n",
       "    </tr>\n",
       "    <tr>\n",
       "      <th>1</th>\n",
       "      <td>Te</td>\n",
       "      <td>Te1</td>\n",
       "      <td>Te1-2</td>\n",
       "      <td>1.0</td>\n",
       "    </tr>\n",
       "    <tr>\n",
       "      <th>2</th>\n",
       "      <td>In</td>\n",
       "      <td>In2</td>\n",
       "      <td>In2-3</td>\n",
       "      <td>0.4</td>\n",
       "    </tr>\n",
       "    <tr>\n",
       "      <th>3</th>\n",
       "      <td>In</td>\n",
       "      <td>In3</td>\n",
       "      <td>In3-4</td>\n",
       "      <td>1.0</td>\n",
       "    </tr>\n",
       "  </tbody>\n",
       "</table>\n",
       "</div>"
      ],
      "text/plain": [
       "  Species Wyckoff Site POSCAR Site  Occupancy\n",
       "0      Cu          Cu0       Cu0-1        0.8\n",
       "1      Te          Te1       Te1-2        1.0\n",
       "2      In          In2       In2-3        0.4\n",
       "3      In          In3       In3-4        1.0"
      ]
     },
     "execution_count": 5,
     "metadata": {},
     "output_type": "execute_result"
    }
   ],
   "source": [
    "from poshcar.disorder import *\n",
    "cif2vasp_occ('_demo/I-42m(121)_135.cif')\n",
    "data = readfile('_demo/I-42m(121)_135.vasp')\n",
    "printvaspdata(data)\n",
    "print(\"Selective Dynamics:\", is_seldyn(data)) # This imitates a selective dynamics-active POSCAR file\n",
    "elemindices(data) # ElemIndices (Distance.py) can read site-disordered structures"
   ]
  },
  {
   "cell_type": "code",
   "execution_count": 9,
   "id": "838d344b-39e3-45ce-ac8e-081988cb18dd",
   "metadata": {},
   "outputs": [
    {
     "name": "stdout",
     "output_type": "stream",
     "text": [
      "Reading from file: _demo/I-42m(121)_135.vasp\n",
      "Site-disordered structure detected!\n"
     ]
    },
    {
     "data": {
      "text/plain": [
       "Species\n",
       "Cu    0.2500\n",
       "In    0.4375\n",
       "Te    0.3125\n",
       "Name: Occupancy, dtype: float64"
      ]
     },
     "metadata": {},
     "output_type": "display_data"
    },
    {
     "data": {
      "text/plain": [
       "array([0.25  , 0.4375, 0.3125])"
      ]
     },
     "execution_count": 9,
     "metadata": {},
     "output_type": "execute_result"
    }
   ],
   "source": [
    "from poshcar.disorder import *\n",
    "data = readfile('_demo/I-42m(121)_135.vasp')\n",
    "composition(data)"
   ]
  },
  {
   "cell_type": "code",
   "execution_count": null,
   "id": "bbb6b6d6-a5d3-4699-be50-de852d2bd542",
   "metadata": {},
   "outputs": [],
   "source": []
  }
 ],
 "metadata": {
  "kernelspec": {
   "display_name": "Python 3 (ipykernel)",
   "language": "python",
   "name": "python3"
  },
  "language_info": {
   "codemirror_mode": {
    "name": "ipython",
    "version": 3
   },
   "file_extension": ".py",
   "mimetype": "text/x-python",
   "name": "python",
   "nbconvert_exporter": "python",
   "pygments_lexer": "ipython3",
   "version": "3.10.13"
  }
 },
 "nbformat": 4,
 "nbformat_minor": 5
}
